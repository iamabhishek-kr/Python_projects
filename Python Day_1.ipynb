{
 "cells": [
  {
   "cell_type": "markdown",
   "id": "b4335171",
   "metadata": {},
   "source": [
    "# Python - Assignment 1"
   ]
  },
  {
   "cell_type": "markdown",
   "id": "a6475eb9",
   "metadata": {},
   "source": [
    "### 1. In the below elements which of them are values or an expression? eg:- values can be integer or string and expressions will be mathematical operators."
   ]
  },
  {
   "cell_type": "markdown",
   "id": "2a1f8d20",
   "metadata": {},
   "source": [
    "Ans:\n",
    "    \n",
    "    * - expression\n",
    "    'hello' - string\n",
    "    -87.8 - values\n",
    "    - - expression\n",
    "    / - expression\n",
    "    + - expression\n",
    "    6 - values"
   ]
  },
  {
   "cell_type": "markdown",
   "id": "864f50d9",
   "metadata": {},
   "source": [
    "### 2. What is the difference between string and variable?"
   ]
  },
  {
   "cell_type": "markdown",
   "id": "b55e02ad",
   "metadata": {},
   "source": [
    "Ans:  \n",
    "\n",
    "    A string is a type of variable. Variables can be of several types like integer, floating point, string, boolean. All of these are variables. String is just a type of variable. \n",
    "    Python detects the type of variable automatically. A string is written between quotes (“)\n",
    "eg.\n",
    "\n",
    "    name = \"Abhishek Kumar\""
   ]
  },
  {
   "cell_type": "markdown",
   "id": "7a01b563",
   "metadata": {},
   "source": [
    "### 3. Describe three different data types."
   ]
  },
  {
   "cell_type": "markdown",
   "id": "e73843dc",
   "metadata": {},
   "source": [
    "Datatype:\n",
    "\n",
    "    1. integer - integer number\n",
    "    2. float - Decimal Number\n",
    "    3. string - anything written in double/Single quotes(\"\",'') \n",
    "    4. boolean -(True, False)\n",
    "    "
   ]
  },
  {
   "cell_type": "markdown",
   "id": "a4c5dfcc",
   "metadata": {},
   "source": [
    "### 4. What is an expression made up of? What do all expressions do?"
   ]
  },
  {
   "cell_type": "markdown",
   "id": "7575b1e9",
   "metadata": {},
   "source": [
    "    An expression is any sequence of literals (strings, numbers, lists, sets, tuples), objects, function calls, identifiers combined with a variety of operators which results in a value - regardless of whether of the resulting value is an object, or a number, or even a None. So examples of expressions are :\n",
    "\n",
    "    ‘Hello World’ - this is a string literal\n",
    "    23.6 - this is a floating point literal\n",
    "    {1,2,3,4} - a set literal\n",
    "    my_func(1,2,3) - a function call (even if the function returns None)\n",
    "    2 + the_number * math.factorial(7) - a combination of literals, operators, identifiers and function calls"
   ]
  },
  {
   "cell_type": "markdown",
   "id": "5f50a2d4",
   "metadata": {},
   "source": [
    "### 5. This assignment statements, like spam = 10. What is the difference between an expression and a statement? "
   ]
  },
  {
   "cell_type": "markdown",
   "id": "2dc67382",
   "metadata": {},
   "source": [
    "Ans:\n",
    "    \n",
    "    An expression evaluates to a value. A statement does something."
   ]
  },
  {
   "cell_type": "code",
   "execution_count": 1,
   "id": "b482a091",
   "metadata": {},
   "outputs": [
    {
     "name": "stdout",
     "output_type": "stream",
     "text": [
      "11\n"
     ]
    }
   ],
   "source": [
    "spam1 = 10        # a statement\n",
    "spam1 + 2         # an expression\n",
    "spam2 = 1         # a statement \n",
    "spam2 = spam1 + 1 # a statement\n",
    "print(spam2)      # a statement (in 2.x)"
   ]
  },
  {
   "cell_type": "markdown",
   "id": "70205dc4",
   "metadata": {},
   "source": [
    "### 6. After running the following code, what does the variable bacon contain?\n",
    "    bacon = 22\n",
    "    bacon + 1"
   ]
  },
  {
   "cell_type": "code",
   "execution_count": 2,
   "id": "0a68620a",
   "metadata": {},
   "outputs": [
    {
     "data": {
      "text/plain": [
       "23"
      ]
     },
     "execution_count": 2,
     "metadata": {},
     "output_type": "execute_result"
    }
   ],
   "source": [
    "bacon = 22\n",
    "bacon + 1"
   ]
  },
  {
   "cell_type": "markdown",
   "id": "7e3cc54d",
   "metadata": {},
   "source": [
    "### 7. What should the values of the following two terms be?\n",
    "    'spam'+'spamspam'\n",
    "    'spam'*3"
   ]
  },
  {
   "cell_type": "code",
   "execution_count": 3,
   "id": "d330072f",
   "metadata": {},
   "outputs": [
    {
     "name": "stdout",
     "output_type": "stream",
     "text": [
      "spamspamspam\n",
      "spamspamspam\n"
     ]
    }
   ],
   "source": [
    "print('spam'+'spamspam')\n",
    "print('spam'*3)"
   ]
  },
  {
   "cell_type": "markdown",
   "id": "525a1a46",
   "metadata": {},
   "source": [
    "### 8. Why is eggs a valid variable name while 100 is invalid?"
   ]
  },
  {
   "cell_type": "markdown",
   "id": "f74cdbd7",
   "metadata": {},
   "source": [
    "    1. Variable name should start with alphabets\n",
    "    2. variable name should not contain any special characters like ^ % $ ! @ etc\n",
    "    3. variable name can contain number but can not start with numbers\n",
    "    4. Its not a strict rule that you should start with a capital letter but it is recommended to use small letter for variables"
   ]
  },
  {
   "cell_type": "markdown",
   "id": "b4dc67c3",
   "metadata": {},
   "source": [
    "### 9. What three functions can be used to get the integer, floating-point number, or string version of a value?"
   ]
  },
  {
   "cell_type": "markdown",
   "id": "966c6bd9",
   "metadata": {},
   "source": [
    "    integer: int\n",
    "    floating point: float\n",
    "    string: str"
   ]
  },
  {
   "cell_type": "code",
   "execution_count": 4,
   "id": "21ff71ae",
   "metadata": {},
   "outputs": [
    {
     "name": "stdout",
     "output_type": "stream",
     "text": [
      "9\n",
      "5.0\n"
     ]
    },
    {
     "data": {
      "text/plain": [
       "str"
      ]
     },
     "execution_count": 4,
     "metadata": {},
     "output_type": "execute_result"
    }
   ],
   "source": [
    "#eg:\n",
    "print(int(9.4))\n",
    "print(float(5))\n",
    "type(str(5))"
   ]
  },
  {
   "cell_type": "markdown",
   "id": "71671633",
   "metadata": {},
   "source": [
    "### 10. Why does this expression cause an error? How can you fix it?\n",
    "    'I have eaten' + 99 + 'burritos'"
   ]
  },
  {
   "cell_type": "code",
   "execution_count": 5,
   "id": "b84731da",
   "metadata": {},
   "outputs": [
    {
     "name": "stdout",
     "output_type": "stream",
     "text": [
      "I have eaten 99 burritos\n"
     ]
    }
   ],
   "source": [
    "#string and integer datatype can not be added\n",
    "print('I have eaten ' + str(99) + ' burritos')"
   ]
  }
 ],
 "metadata": {
  "kernelspec": {
   "display_name": "Python 3 (ipykernel)",
   "language": "python",
   "name": "python3"
  },
  "language_info": {
   "codemirror_mode": {
    "name": "ipython",
    "version": 3
   },
   "file_extension": ".py",
   "mimetype": "text/x-python",
   "name": "python",
   "nbconvert_exporter": "python",
   "pygments_lexer": "ipython3",
   "version": "3.9.12"
  }
 },
 "nbformat": 4,
 "nbformat_minor": 5
}
