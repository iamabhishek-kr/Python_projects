{
 "cells": [
  {
   "cell_type": "markdown",
   "id": "1cf4e0ba",
   "metadata": {},
   "source": [
    "### 1.What are the two values of the Boolean data type? How do you write them?"
   ]
  },
  {
   "cell_type": "code",
   "execution_count": 4,
   "id": "af32ea7a",
   "metadata": {},
   "outputs": [
    {
     "name": "stdout",
     "output_type": "stream",
     "text": [
      "datatype of a is <class 'bool'>\n",
      "datatype of b is <class 'bool'>\n"
     ]
    }
   ],
   "source": [
    "a = True\n",
    "print(f'datatype of a is {type(a)}')\n",
    " \n",
    "b = False\n",
    "print(f'datatype of b is {type(b)}')"
   ]
  },
  {
   "cell_type": "markdown",
   "id": "6e074fbd",
   "metadata": {},
   "source": [
    "### 2. What are the three different types of Boolean operators?"
   ]
  },
  {
   "cell_type": "markdown",
   "id": "0cfcd83a",
   "metadata": {},
   "source": [
    "Ans:\n",
    "\n",
    "    Boolean Operations are simple arithmetic of True and False values. These values can be manipulated by the use of boolean operators which include AND, Or, and NOT. Common boolean operations are –\n",
    "\n",
    "    1. or\n",
    "    2. and\n",
    "    3. not\n",
    "    4. == (equivalent)\n",
    "    5. != (not equivalent)"
   ]
  },
  {
   "cell_type": "markdown",
   "id": "aee8325f",
   "metadata": {},
   "source": [
    "### 3. Make a list of each Boolean operator's truth tables (i.e. every possible combination of Boolean values for the operator and what it evaluate )."
   ]
  },
  {
   "cell_type": "code",
   "execution_count": 16,
   "id": "a1fb022b",
   "metadata": {},
   "outputs": [
    {
     "name": "stdout",
     "output_type": "stream",
     "text": [
      "and operator\n",
      "\n",
      "True and True = True\n",
      "True and False = False\n",
      "False and True = False\n",
      "False and False = False\n",
      "\n",
      "Or operator\n",
      "\n",
      "True or True = True\n",
      "True or False = True\n",
      "False or True = True\n",
      "False or False = False\n"
     ]
    }
   ],
   "source": [
    "print(\"and operator\\n\")\n",
    "print(f'True and True = {True and True}')\n",
    "print(f'True and False = {True and False}')\n",
    "print(f'False and True = {False and True}')\n",
    "print(f'False and False = {False and False}')\n",
    "print(\"\\nOr operator\\n\")\n",
    "print(f'True or True = {True or True}')\n",
    "print(f'True or False = {True or False}')\n",
    "print(f'False or True = {False or True}')\n",
    "print(f'False or False = {False or False}')"
   ]
  },
  {
   "cell_type": "markdown",
   "id": "fba584e5",
   "metadata": {},
   "source": [
    "### 4. What are the values of the following expressions?\n",
    "    (5 > 4) and (3 == 5)\n",
    "    not (5 > 4)\n",
    "    (5 > 4) or (3 == 5)\n",
    "    not ((5 > 4) or (3 == 5))\n",
    "    (True and True) and (True == False)\n",
    "    (not False) or (not True)"
   ]
  },
  {
   "cell_type": "code",
   "execution_count": null,
   "id": "1095ed3e",
   "metadata": {},
   "outputs": [],
   "source": []
  }
 ],
 "metadata": {
  "kernelspec": {
   "display_name": "Python 3 (ipykernel)",
   "language": "python",
   "name": "python3"
  },
  "language_info": {
   "codemirror_mode": {
    "name": "ipython",
    "version": 3
   },
   "file_extension": ".py",
   "mimetype": "text/x-python",
   "name": "python",
   "nbconvert_exporter": "python",
   "pygments_lexer": "ipython3",
   "version": "3.9.12"
  }
 },
 "nbformat": 4,
 "nbformat_minor": 5
}
